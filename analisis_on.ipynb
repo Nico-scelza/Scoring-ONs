{
 "cells": [
  {
   "cell_type": "code",
   "execution_count": null,
   "id": "2582b800",
   "metadata": {},
   "outputs": [],
   "source": [
    "from datetime import datetime, timedelta\n",
    "import pandas as pd\n",
    "import numpy as np\n",
    "from IPython.display import display, HTML"
   ]
  },
  {
   "cell_type": "markdown",
   "id": "809a36f2",
   "metadata": {},
   "source": [
    "CALCULAR FECHAS"
   ]
  },
  {
   "cell_type": "code",
   "execution_count": null,
   "id": "6ef04bf1",
   "metadata": {},
   "outputs": [],
   "source": [
    "def pedir_datos_usuario():\n",
    "    # Preguntar si usará balances anuales o trimestrales\n",
    "    while True:\n",
    "        tipo_balance = input(\"¿Vas a utilizar balances anuales o trimestrales? (anual/trimestral): \").strip().lower()\n",
    "        if tipo_balance in ['anual', 'trimestral']:\n",
    "            break\n",
    "        print(\"Por favor, responde 'anual' o 'trimestral'.\")\n",
    "\n",
    "    # Preguntar cuántos balances va a utilizar\n",
    "    while True:\n",
    "        try:\n",
    "            cantidad = int(input(f\"¿Cuántos balances {tipo_balance}es vas a utilizar?: \"))\n",
    "            if cantidad > 0:\n",
    "                break\n",
    "            else:\n",
    "                print(\"La cantidad debe ser mayor a cero.\")\n",
    "        except ValueError:\n",
    "            print(\"Ingresa un número válido.\")\n",
    "    \n",
    "    # Preguntar la fecha del balance más actual\n",
    "    while True:\n",
    "        fecha_str = input(\"Ingresa la fecha del balance más actual (YYYY-MM-DD): \").strip()\n",
    "        try:\n",
    "            fecha_actual = datetime.strptime(fecha_str, \"%Y-%m-%d\")\n",
    "            break\n",
    "        except ValueError:\n",
    "            print(\"Formato de fecha inválido. Usa YYYY-MM-DD.\")\n",
    "\n",
    "    return tipo_balance, cantidad, fecha_actual\n",
    "\n",
    "def calcular_fechas_anteriores(tipo_balance, cantidad, fecha_actual):\n",
    "    fechas = [fecha_actual]\n",
    "    for i in range(1, cantidad):\n",
    "        if tipo_balance == \"anual\":\n",
    "            nueva_fecha = fecha_actual.replace(year=fecha_actual.year - i)\n",
    "        elif tipo_balance == \"trimestral\":\n",
    "            # Restar 3 meses (aprox 90 días) por cada balance anterior\n",
    "            meses_a_restar = 3 * i\n",
    "            # Calcular el nuevo año y mes\n",
    "            mes = fecha_actual.month - meses_a_restar\n",
    "            anio = fecha_actual.year\n",
    "            while mes <= 0:\n",
    "                mes += 12\n",
    "                anio -= 1\n",
    "            # Mantener el día, pero si el mes tiene menos días, ajustar\n",
    "            dia = min(fecha_actual.day, [31,29 if anio%4==0 and (anio%100!=0 or anio%400==0) else 28,31,30,31,30,31,31,30,31,30,31][mes-1])\n",
    "            nueva_fecha = fecha_actual.replace(year=anio, month=mes, day=dia)\n",
    "        fechas.append(nueva_fecha)\n",
    "    return sorted(fechas, reverse=True)\n",
    "\n",
    "def main():\n",
    "    tipo_balance, cantidad, fecha_actual = pedir_datos_usuario()\n",
    "    fechas = calcular_fechas_anteriores(tipo_balance, cantidad, fecha_actual)\n",
    "    print(\"\\nFechas de los balances a analizar:\")\n",
    "    for i, fecha in enumerate(fechas, 1):\n",
    "        print(f\"{i}. {fecha.strftime('%Y-%m-%d')}\")\n",
    "        \n",
    "def main():\n",
    "    tipo_balance, cantidad, fecha_actual = pedir_datos_usuario()\n",
    "    fechas = calcular_fechas_anteriores(tipo_balance, cantidad, fecha_actual)\n",
    "    print(\"\\nFechas de los balances a analizar:\")\n",
    "    for i, fecha in enumerate(fechas, 1):\n",
    "        print(f\"{i}. {fecha.strftime('%Y-%m-%d')}\")\n",
    "    return fechas"
   ]
  },
  {
   "cell_type": "code",
   "execution_count": null,
   "id": "ea981997",
   "metadata": {},
   "outputs": [],
   "source": [
    "fechas = main()"
   ]
  },
  {
   "cell_type": "code",
   "execution_count": null,
   "id": "59437f34",
   "metadata": {},
   "outputs": [],
   "source": [
    "# Pasar fechas a una fila de strings en orden (más reciente a más antigua)\n",
    "fechas_str = [fecha.strftime(\"%Y-%m-%d\") for fecha in fechas]\n",
    "print(fechas_str)"
   ]
  },
  {
   "cell_type": "markdown",
   "id": "7898b85c",
   "metadata": {},
   "source": [
    "CREAR TABLA VACIA"
   ]
  },
  {
   "cell_type": "code",
   "execution_count": null,
   "id": "d87d7401",
   "metadata": {},
   "outputs": [],
   "source": [
    "columnas = [\"Concepto\"] + fechas_str  # Primer columna para los conceptos o cuentas\n",
    "\n",
    "# Crear un DataFrame vacío con esos encabezados\n",
    "tabla = pd.DataFrame(columns=columnas)\n",
    "\n",
    "# Lista de conceptos\n",
    "conceptos = [\n",
    "    \"Ventas\",\n",
    "    \"EBITDA\",\n",
    "    \"Intereses Pagados\",\n",
    "    \"Deuda Financiera Total\",\n",
    "    \"Efectivo y Equivalente de Efectivo\",\n",
    "    \"Activo Corriente\",\n",
    "    \"Pasivo Corriente\",\n",
    "    \"Activo Total\",\n",
    "    \"Pasivo Total\",\n",
    "    \"Patrimonio Neto\"\n",
    "]\n",
    "\n",
    "# Crear la tabla con la columna \"Concepto\" y los encabezados de fechas\n",
    "tabla = pd.DataFrame(columns=[\"Concepto\"] + fechas_str)\n",
    "\n",
    "# Agregar los conceptos como filas, el resto queda vacío\n",
    "tabla[\"Concepto\"] = conceptos\n",
    "\n",
    "display(tabla)"
   ]
  },
  {
   "cell_type": "markdown",
   "id": "2b9a035b",
   "metadata": {},
   "source": [
    "EXPORTAR TABLA A CARPETA \"OUTPUT\""
   ]
  },
  {
   "cell_type": "code",
   "execution_count": null,
   "id": "9049217c",
   "metadata": {},
   "outputs": [],
   "source": [
    "# Ruta del archivo\n",
    "nombre_archivo = \"output/datos_financieros.xlsx\"\n",
    "\n",
    "# Exportar la tabla a Excel sin el índice\n",
    "tabla.to_excel(nombre_archivo, index=False)\n",
    "print(f\"Tabla exportada correctamente a {nombre_archivo}\")"
   ]
  },
  {
   "cell_type": "markdown",
   "id": "e24d0ba1",
   "metadata": {},
   "source": [
    "DEBE COMPLETAR LA TABLA CON LOS DATOS FINANCIEROS DE LA EMPRESA QUE DESEA ANALIZAR Y, UNA VEZ QUE ESTÁ LISTA, COPIARLA EN LA CARPETA \"INPUT\""
   ]
  },
  {
   "cell_type": "code",
   "execution_count": null,
   "id": "5a617cef",
   "metadata": {},
   "outputs": [],
   "source": [
    "# Celda de validación para el usuario\n",
    "\n",
    "respuesta = input(\"¿El archivo 'datos_financieros.xlsx' ya está listo en la carpeta 'input'? (si/ok para continuar): \").strip().lower()\n",
    "while respuesta not in [\"si\", \"ok\"]:\n",
    "    print(\"Por favor, asegurate de que el archivo esté listo y responde 'si' u 'ok' para continuar.\")\n",
    "    respuesta = input(\"¿El archivo 'datos_financieros.xlsx' ya está listo en la carpeta 'input'? (si/ok para continuar): \").strip().lower()\n",
    "\n",
    "print(\"¡Perfecto! Continuemos...\")"
   ]
  },
  {
   "cell_type": "markdown",
   "id": "0c32bb6c",
   "metadata": {},
   "source": [
    "PASAMOS LA TABLA A DF"
   ]
  },
  {
   "cell_type": "code",
   "execution_count": null,
   "id": "3bf0ca70",
   "metadata": {},
   "outputs": [],
   "source": [
    "# Ruta del archivo Excel en la carpeta input\n",
    "nombre_archivo_input = \"input/datos_financieros.xlsx\"\n",
    "\n",
    "# Leer el archivo Excel y convertirlo en un DataFrame\n",
    "df = pd.read_excel(nombre_archivo_input)\n",
    "\n",
    "# Mostrar las primeras filas para verificar que se leyó correctamente\n",
    "df.head()"
   ]
  },
  {
   "cell_type": "markdown",
   "id": "67d3da5e",
   "metadata": {},
   "source": [
    "CÁLCULO DE RATIOS"
   ]
  },
  {
   "cell_type": "code",
   "execution_count": null,
   "id": "6ea94959",
   "metadata": {},
   "outputs": [],
   "source": [
    "# Primero, asegurate de que el índice sea 'Concepto'\n",
    "df = df.set_index(\"Concepto\")\n",
    "\n",
    "# Calculá los ratios para cada fecha (columna)\n",
    "df.loc[\"Pasivo Corriente / Activo Corriente\"] = df.loc[\"Pasivo Corriente\"] / df.loc[\"Activo Corriente\"]\n",
    "df.loc[\"Pasivo / Activo\"] = df.loc[\"Pasivo Total\"] / df.loc[\"Activo Total\"]\n",
    "df.loc[\"Efectivo / Pasivo Corriente\"] = df.loc[\"Efectivo y Equivalente de Efectivo\"] / df.loc[\"Pasivo Corriente\"]\n",
    "df.loc[\"Apalancamiento\"] = df.loc[\"Deuda Financiera Total\"] / df.loc[\"Patrimonio Neto\"]\n",
    "df.loc[\"EBITDA / Intereses\"] = df.loc[\"EBITDA\"] / df.loc[\"Intereses Pagados\"]\n",
    "df.loc[\"Deuda Financiera Neta / EBITDA\"] = (df.loc[\"Deuda Financiera Total\"] - df.loc[\"Efectivo y Equivalente de Efectivo\"]) / df.loc[\"EBITDA\"]\n",
    "df.loc[\"Deuda Financiera Neta / Patrimonio Neto\"] = (df.loc[\"Deuda Financiera Total\"] - df.loc[\"Efectivo y Equivalente de Efectivo\"]) / df.loc[\"Patrimonio Neto\"]"
   ]
  },
  {
   "cell_type": "markdown",
   "id": "788f27d5",
   "metadata": {},
   "source": [
    "CALCULO PROMEDIO PONDERADO"
   ]
  },
  {
   "cell_type": "code",
   "execution_count": null,
   "id": "f7709f0b",
   "metadata": {},
   "outputs": [],
   "source": [
    "# Detecta todas las columnas de fechas dinámicamente (exceptuando columnas extra si hay)\n",
    "fechas = df.columns.tolist()\n",
    "if \"Promedio Ponderado\" in fechas:\n",
    "    fechas.remove(\"Promedio Ponderado\")\n",
    "\n",
    "# Los pesos: mayor peso a la izquierda (más antigua), menor a la derecha\n",
    "n = len(fechas)\n",
    "pesos = np.linspace(n, 1, n)  # Ejemplo: [3,2,1] para 3 fechas\n",
    "pesos = pesos / pesos.sum()   # Normaliza para que sumen 1\n",
    "\n",
    "# Calcula el promedio ponderado de los ratios\n",
    "ratios = [\n",
    "    \"Pasivo Corriente / Activo Corriente\",\n",
    "    \"Pasivo / Activo\",\n",
    "    \"Efectivo / Pasivo Corriente\",\n",
    "    \"Apalancamiento\",\n",
    "    \"EBITDA / Intereses\",\n",
    "    \"Deuda Financiera Neta / EBITDA\",\n",
    "    \"Deuda Financiera Neta / Patrimonio Neto\"\n",
    "]\n",
    "\n",
    "ponderados = {}\n",
    "for ratio in ratios:\n",
    "    if ratio in df.index:\n",
    "        valores = df.loc[ratio, fechas].astype(float)\n",
    "        ponderado = np.dot(valores, pesos)\n",
    "        ponderados[ratio] = ponderado\n",
    "\n",
    "# Agrega los promedios ponderados como columna\n",
    "for ratio, valor in ponderados.items():\n",
    "    df.loc[ratio, \"Promedio Ponderado\"] = valor\n",
    "\n",
    "# Muestra la tabla final\n",
    "df"
   ]
  },
  {
   "cell_type": "markdown",
   "id": "ef940f64",
   "metadata": {},
   "source": [
    "DEFINICIÓN DE NOTAS"
   ]
  },
  {
   "cell_type": "code",
   "execution_count": null,
   "id": "5218cc7f",
   "metadata": {},
   "outputs": [],
   "source": [
    "def nota_pasivo_corriente_activo_corriente(x):\n",
    "    if x <= 0.4: return 10\n",
    "    elif x <= 0.5: return 9\n",
    "    elif x <= 0.6: return 8\n",
    "    elif x <= 0.6999: return 7\n",
    "    elif x <= 0.8: return 6\n",
    "    elif x <= 0.85: return 5\n",
    "    elif x <= 0.99: return 4\n",
    "    elif x <= 1.1: return 3\n",
    "    elif x <= 1.5: return 2\n",
    "    else: return 1\n",
    "\n",
    "def nota_pasivo_activo(x):\n",
    "    if x <= 0.4: return 10\n",
    "    elif x <= 0.5: return 9\n",
    "    elif x <= 0.6: return 8\n",
    "    elif x <= 0.6999: return 7\n",
    "    elif x <= 0.8: return 6\n",
    "    elif x <= 0.85: return 5\n",
    "    elif x <= 0.99: return 4\n",
    "    elif x <= 1.1: return 3\n",
    "    elif x <= 1.5: return 2\n",
    "    else: return 1\n",
    "\n",
    "def nota_efectivo_pasivo_corriente(x):\n",
    "    if x >= 1.5: return 10\n",
    "    elif x >= 1.3: return 9\n",
    "    elif x >= 1.1: return 8\n",
    "    elif x >= 1: return 7\n",
    "    elif x >= 0.9: return 6\n",
    "    elif x >= 0.85: return 5\n",
    "    elif x >= 0.8: return 4\n",
    "    elif x >= 0.7: return 3\n",
    "    elif x >= 0.6: return 2\n",
    "    else: return 1\n",
    "\n",
    "def nota_apalancamiento(x):\n",
    "    if x <= 1: return 10\n",
    "    elif x <= 1.3: return 9\n",
    "    elif x <= 1.5: return 8\n",
    "    elif x <= 1.99: return 7\n",
    "    elif x <= 2.05: return 6\n",
    "    elif x <= 2.1: return 5\n",
    "    elif x <= 2.2: return 4\n",
    "    elif x <= 2.3: return 3\n",
    "    elif x <= 2.5: return 2\n",
    "    else: return 1\n",
    "\n",
    "def nota_ebitda_intereses(x):\n",
    "    if x >= 6: return 10\n",
    "    elif x >= 5: return 9\n",
    "    elif x >= 4: return 8\n",
    "    elif x >= 3: return 7\n",
    "    elif x >= 2.5: return 6\n",
    "    elif x >= 1.5: return 5\n",
    "    elif x >= 1: return 4\n",
    "    elif x >= 0.9: return 3\n",
    "    elif x >= 0.5: return 2\n",
    "    else: return 1\n",
    "\n",
    "def nota_deuda_fin_neta_ebitda(x):\n",
    "    if x <= 1: return 10\n",
    "    elif x <= 2: return 9\n",
    "    elif x <= 2.5: return 8\n",
    "    elif x <= 2.9999: return 7\n",
    "    elif x <= 3.1: return 6\n",
    "    elif x <= 3.5: return 5\n",
    "    elif x <= 3.9999: return 4\n",
    "    elif x <= 4.1: return 3\n",
    "    elif x <= 4.5: return 2\n",
    "    else: return 1\n",
    "\n",
    "def nota_deuda_fin_neta_patrimonio(x):\n",
    "    if x <= 0.2: return 10\n",
    "    elif x <= 0.5: return 9\n",
    "    elif x <= 0.8: return 8\n",
    "    elif x <= 0.9999: return 7\n",
    "    elif x <= 1.1: return 6\n",
    "    elif x <= 1.3: return 5\n",
    "    elif x <= 1.4999: return 4\n",
    "    elif x <= 1.6: return 3\n",
    "    elif x <= 1.8: return 2\n",
    "    else: return 1"
   ]
  },
  {
   "cell_type": "code",
   "execution_count": null,
   "id": "c1334137",
   "metadata": {},
   "outputs": [],
   "source": [
    "df.loc[\"Pasivo Corriente / Activo Corriente\", \"Nota\"] = nota_pasivo_corriente_activo_corriente(df.loc[\"Pasivo Corriente / Activo Corriente\", \"Promedio Ponderado\"])\n",
    "df.loc[\"Pasivo / Activo\", \"Nota\"] = nota_pasivo_activo(df.loc[\"Pasivo / Activo\", \"Promedio Ponderado\"])\n",
    "df.loc[\"Efectivo / Pasivo Corriente\", \"Nota\"] = nota_efectivo_pasivo_corriente(df.loc[\"Efectivo / Pasivo Corriente\", \"Promedio Ponderado\"])\n",
    "df.loc[\"Apalancamiento\", \"Nota\"] = nota_apalancamiento(df.loc[\"Apalancamiento\", \"Promedio Ponderado\"])\n",
    "df.loc[\"EBITDA / Intereses\", \"Nota\"] = nota_ebitda_intereses(df.loc[\"EBITDA / Intereses\", \"Promedio Ponderado\"])\n",
    "df.loc[\"Deuda Financiera Neta / EBITDA\", \"Nota\"] = nota_deuda_fin_neta_ebitda(df.loc[\"Deuda Financiera Neta / EBITDA\", \"Promedio Ponderado\"])\n",
    "df.loc[\"Deuda Financiera Neta / Patrimonio Neto\", \"Nota\"] = nota_deuda_fin_neta_patrimonio(df.loc[\"Deuda Financiera Neta / Patrimonio Neto\", \"Promedio Ponderado\"])"
   ]
  },
  {
   "cell_type": "markdown",
   "id": "3b5124fb",
   "metadata": {},
   "source": [
    "NOTA FINAL"
   ]
  },
  {
   "cell_type": "code",
   "execution_count": null,
   "id": "8ba57b3b",
   "metadata": {},
   "outputs": [],
   "source": [
    "nota_final = (\n",
    "    df.loc[\"Apalancamiento\", \"Nota\"] * 0.25\n",
    "    + df.loc[\"Deuda Financiera Neta / Patrimonio Neto\", \"Nota\"] * 0.20\n",
    "    + df.loc[\"Deuda Financiera Neta / EBITDA\", \"Nota\"] * 0.15\n",
    "    + df.loc[\"EBITDA / Intereses\", \"Nota\"] * 0.15\n",
    "    + df.loc[\"Efectivo / Pasivo Corriente\", \"Nota\"] * 0.10\n",
    "    + df.loc[\"Pasivo Corriente / Activo Corriente\", \"Nota\"] * 0.10\n",
    "    + df.loc[\"Pasivo / Activo\", \"Nota\"] * 0.05\n",
    ")"
   ]
  },
  {
   "cell_type": "code",
   "execution_count": null,
   "id": "6b3e4ead",
   "metadata": {},
   "outputs": [],
   "source": [
    "# Definí los nombres de ratios para mostrar\n",
    "ratios_nombres = [\n",
    "    (\"Pasivo Corriente / Activo Corriente\", \"Pasivo Corriente / Activo Corriente\"),\n",
    "    (\"Pasivo / Activo\", \"Pasivo / Activo\"),\n",
    "    (\"Efectivo / Pasivo Corriente\", \"Efectivo / Pasivo Corriente\"),\n",
    "    (\"Apalancamiento\", \"Apalancamiento\"),\n",
    "    (\"EBITDA / Intereses\", \"EBITDA / Intereses\"),\n",
    "    (\"Deuda Financiera Neta / EBITDA\", \"Deuda Financiera Neta / EBITDA\"),\n",
    "    (\"Deuda Financiera Neta / Patrimonio Neto\", \"Deuda Financiera Neta / Patrimonio Neto\")\n",
    "]"
   ]
  },
  {
   "cell_type": "code",
   "execution_count": null,
   "id": "85e56e23",
   "metadata": {},
   "outputs": [],
   "source": [
    "def color_nota(nota):\n",
    "    # Nota mínima = 1 (rojo), máxima = 10 (verde)\n",
    "    # Interpolación entre rojo (255,0,0), amarillo (255,255,0), verde (0,128,0)\n",
    "    if nota <= 3:\n",
    "        r, g, b = 229, 57, 53\n",
    "    elif nota <= 7:\n",
    "        # Amarillo: (251, 192, 45)\n",
    "        r, g, b = 251, 192, 45\n",
    "    else:\n",
    "        # Verde: (67, 160, 71)\n",
    "        r, g, b = 67, 160, 71\n",
    "    return f'rgb({r},{g},{b})'\n",
    "\n",
    "def show_notas_color(ratios_nombres, df, nota_final):\n",
    "    html = \"<b>Notas de cada ratio:</b><br><br>\"\n",
    "    for key, nombre in ratios_nombres:\n",
    "        nota = df.loc[key, \"Nota\"]\n",
    "        color = color_nota(nota)\n",
    "        html += (\n",
    "            f'<div style=\"margin-bottom:16px;\">'\n",
    "            f'<span style=\"background-color:{color}; color:white; padding:10px 24px; border-radius:25px; font-size:16px; min-width:180px; display:inline-block;\">'\n",
    "            f'{nombre}: {nota}'\n",
    "            f'</span>'\n",
    "            f'</div>'\n",
    "        )\n",
    "    html += (\n",
    "        f'<br><b>Nota final:</b><br>'\n",
    "        f'<span style=\"background-color:{color_nota(nota_final)}; color:white; padding:12px 32px; border-radius:30px; font-size:20px; min-width:200px; display:inline-block;\">'\n",
    "        f'{nota_final:.2f}'\n",
    "        f'</span>'\n",
    "    )\n",
    "    display(HTML(html))\n",
    "\n",
    "show_notas_color(ratios_nombres, df, nota_final)"
   ]
  }
 ],
 "metadata": {
  "kernelspec": {
   "display_name": "Python 3",
   "language": "python",
   "name": "python3"
  },
  "language_info": {
   "codemirror_mode": {
    "name": "ipython",
    "version": 3
   },
   "file_extension": ".py",
   "mimetype": "text/x-python",
   "name": "python",
   "nbconvert_exporter": "python",
   "pygments_lexer": "ipython3",
   "version": "3.13.1"
  }
 },
 "nbformat": 4,
 "nbformat_minor": 5
}
